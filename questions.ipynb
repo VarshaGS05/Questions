{
  "metadata": {
    "language_info": {
      "codemirror_mode": {
        "name": "python",
        "version": 3
      },
      "file_extension": ".py",
      "mimetype": "text/x-python",
      "name": "python",
      "nbconvert_exporter": "python",
      "pygments_lexer": "ipython3",
      "version": "3.8"
    },
    "kernelspec": {
      "name": "python",
      "display_name": "Pyolite",
      "language": "python"
    }
  },
  "nbformat_minor": 4,
  "nbformat": 4,
  "cells": [
    {
      "cell_type": "code",
      "source": "#question\nl5=[3,4,5,6,7, [23,456,67,8,78,78], [345,56,87,8,98,9], (234,6657,6), {\"key1\":\"sudh\", 234:[23,45,656]}]\nl5",
      "metadata": {
        "trusted": true
      },
      "execution_count": 5,
      "outputs": [
        {
          "execution_count": 5,
          "output_type": "execute_result",
          "data": {
            "text/plain": "[3,\n 4,\n 5,\n 6,\n 7,\n [23, 456, 67, 8, 78, 78],\n [345, 56, 87, 8, 98, 9],\n (234, 6657, 6),\n {'key1': 'sudh', 234: [23, 45, 656]}]"
          },
          "metadata": {}
        }
      ]
    },
    {
      "cell_type": "code",
      "source": "#1. try to reverse a list\nl.reverse()\nl",
      "metadata": {
        "trusted": true
      },
      "execution_count": 63,
      "outputs": [
        {
          "execution_count": 63,
          "output_type": "execute_result",
          "data": {
            "text/plain": "[{'key1': 'sudh', 234: [23, 45, 656]},\n (234, 6657, 6),\n [345, 56, 87, 8, 98, 9],\n [23, 456, 67, 8, 78, 78],\n 7,\n 6,\n 5,\n 4,\n 3]"
          },
          "metadata": {}
        }
      ]
    },
    {
      "cell_type": "code",
      "source": "#2. try to access 234 out of this list\n\nl3.pop([6][0])\nl3",
      "metadata": {
        "trusted": true
      },
      "execution_count": 121,
      "outputs": [
        {
          "execution_count": 121,
          "output_type": "execute_result",
          "data": {
            "text/plain": "[3,\n 4,\n 5,\n 6,\n 7,\n [23, 456, 67, 8, 78, 78],\n (234, 6657, 6),\n {'key1': 'sudh', 234: [23, 45, 656]}]"
          },
          "metadata": {}
        }
      ]
    },
    {
      "cell_type": "code",
      "source": "#3.try to access 456\nl3.pop([5][0])\nl3",
      "metadata": {
        "trusted": true
      },
      "execution_count": 127,
      "outputs": [
        {
          "execution_count": 127,
          "output_type": "execute_result",
          "data": {
            "text/plain": "[3, 4, 5, 6, 7, (234, 6657, 6), {'key1': 'sudh', 234: [23, 45, 656]}]"
          },
          "metadata": {}
        }
      ]
    },
    {
      "cell_type": "code",
      "source": "# 4. try to extract only  a list collection from l\nl5[5]",
      "metadata": {
        "trusted": true
      },
      "execution_count": 6,
      "outputs": [
        {
          "execution_count": 6,
          "output_type": "execute_result",
          "data": {
            "text/plain": "[23, 456, 67, 8, 78, 78]"
          },
          "metadata": {}
        }
      ]
    },
    {
      "cell_type": "code",
      "source": "l5[6]",
      "metadata": {
        "trusted": true
      },
      "execution_count": 8,
      "outputs": [
        {
          "execution_count": 8,
          "output_type": "execute_result",
          "data": {
            "text/plain": "[345, 56, 87, 8, 98, 9]"
          },
          "metadata": {}
        }
      ]
    },
    {
      "cell_type": "code",
      "source": "# 5. try to extract \"sudh\"\nd = l4\nd",
      "metadata": {
        "trusted": true
      },
      "execution_count": 145,
      "outputs": [
        {
          "execution_count": 145,
          "output_type": "execute_result",
          "data": {
            "text/plain": "[3,\n 4,\n 5,\n 6,\n 7,\n [23, 456, 67, 8, 78, 78],\n [345, 56, 87, 8, 98, 9],\n (234, 6657, 6),\n {'key1': 'sudh', 234: [23, 45, 656]}]"
          },
          "metadata": {}
        }
      ]
    },
    {
      "cell_type": "code",
      "source": "d1 = {\"key1\":\"sudh\", 234:[23,45,656]}\nd1[\"key1\"]",
      "metadata": {
        "trusted": true
      },
      "execution_count": 160,
      "outputs": [
        {
          "execution_count": 160,
          "output_type": "execute_result",
          "data": {
            "text/plain": "'sudh'"
          },
          "metadata": {}
        }
      ]
    },
    {
      "cell_type": "code",
      "source": "#6. try to list all the key in dict element avilable in the list\nd=l5\nd\n",
      "metadata": {
        "trusted": true
      },
      "execution_count": 10,
      "outputs": [
        {
          "execution_count": 10,
          "output_type": "execute_result",
          "data": {
            "text/plain": "[3,\n 4,\n 5,\n 6,\n 7,\n [23, 456, 67, 8, 78, 78],\n [345, 56, 87, 8, 98, 9],\n (234, 6657, 6),\n {'key1': 'sudh', 234: [23, 45, 656]}]"
          },
          "metadata": {}
        }
      ]
    },
    {
      "cell_type": "code",
      "source": "# 7. try to extrct all the value element from dict avaible in the list \nd1 = {\"key1\":\"sudh\",234:[23,45,656]}\nd1[\"key1\"]",
      "metadata": {
        "trusted": true
      },
      "execution_count": 12,
      "outputs": [
        {
          "execution_count": 12,
          "output_type": "execute_result",
          "data": {
            "text/plain": "'sudh'"
          },
          "metadata": {}
        }
      ]
    },
    {
      "cell_type": "code",
      "source": "d1[234]",
      "metadata": {
        "trusted": true
      },
      "execution_count": 13,
      "outputs": [
        {
          "execution_count": 13,
          "output_type": "execute_result",
          "data": {
            "text/plain": "[23, 45, 656]"
          },
          "metadata": {}
        }
      ]
    },
    {
      "cell_type": "code",
      "source": "",
      "metadata": {},
      "execution_count": null,
      "outputs": []
    }
  ]
}